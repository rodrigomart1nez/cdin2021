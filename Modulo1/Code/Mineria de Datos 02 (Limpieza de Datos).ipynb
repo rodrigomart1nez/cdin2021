{
 "cells": [
  {
   "cell_type": "markdown",
   "metadata": {},
   "source": [
    "# Limpieza de Datos\n",
    "\n",
    "La limpieza de datos se refiere a la estandarización de la aparición de los datos. El reto principal es la limpieza de bases de datos de texto, en los que se presentan errores en la escritura de datos, signos de puntuación no deseados, así como la eliminación de dígitos o números erroneos en textos."
   ]
  },
  {
   "cell_type": "code",
   "execution_count": 1,
   "metadata": {},
   "outputs": [],
   "source": [
    "import numpy as np\n",
    "import pandas as pd\n",
    "import string"
   ]
  },
  {
   "cell_type": "code",
   "execution_count": 2,
   "metadata": {},
   "outputs": [],
   "source": [
    "dirty_df = pd.read_csv('../Data/dirty_data.csv')"
   ]
  },
  {
   "cell_type": "code",
   "execution_count": 3,
   "metadata": {},
   "outputs": [],
   "source": [
    "def dqr(data):\n",
    "    #%% Lista de variables de la base de datos\n",
    "    columns = pd.DataFrame(list(data.columns.values),\n",
    "                           columns= ['Nombres'],\n",
    "                           index= list(data.columns.values)) \n",
    "    #%% Lista de tipos de datos\n",
    "    data_types = pd.DataFrame(data.dtypes, columns=['Data_Types'])\n",
    "    \n",
    "    #%% lista de datos perdidos\n",
    "    missing_values = pd.DataFrame(data.isnull().sum(),\n",
    "                                  columns=['Missing_values'])\n",
    "    #%% lista de valores presentes\n",
    "    present_values = pd.DataFrame(data.count(), \n",
    "                                  columns=['Present Values'])\n",
    "    \n",
    "    #%% Lista de valores únicos para cada variable\n",
    "    unique_values = pd.DataFrame(columns=['Unique_Values'])\n",
    "    for col in list(data.columns.values):\n",
    "        unique_values.loc[col] = [data[col].nunique()]\n",
    "\n",
    "    #%% Lista de valores mínimos\n",
    "    min_values = pd.DataFrame(columns=['Min'])\n",
    "    for col in list(data.columns.values):\n",
    "        try:\n",
    "            min_values.loc[col] = [data[col].min()]\n",
    "        except:\n",
    "            pass\n",
    "    \n",
    "    #%% Lista de valores máximos\n",
    "    max_values = pd.DataFrame(columns=['Max'])\n",
    "    for col in list(data.columns.values):\n",
    "        try:\n",
    "            max_values.loc[col] = [data[col].max()]\n",
    "        except:\n",
    "            pass\n",
    "    \n",
    "    #%% Columna 'Categorica' que sea booleana que cuando sea True represente\n",
    "    #   que la variable es categorica, y False represente que la variable es\n",
    "    #  numérica\n",
    "    return columns.join(data_types).join(missing_values).join(present_values).join(unique_values).join(min_values).join(max_values)"
   ]
  },
  {
   "cell_type": "code",
   "execution_count": 4,
   "metadata": {},
   "outputs": [],
   "source": [
    "reporte_dirty_df = dqr(dirty_df)"
   ]
  },
  {
   "cell_type": "code",
   "execution_count": 5,
   "metadata": {},
   "outputs": [
    {
     "data": {
      "text/html": [
       "<div>\n",
       "<style scoped>\n",
       "    .dataframe tbody tr th:only-of-type {\n",
       "        vertical-align: middle;\n",
       "    }\n",
       "\n",
       "    .dataframe tbody tr th {\n",
       "        vertical-align: top;\n",
       "    }\n",
       "\n",
       "    .dataframe thead th {\n",
       "        text-align: right;\n",
       "    }\n",
       "</style>\n",
       "<table border=\"1\" class=\"dataframe\">\n",
       "  <thead>\n",
       "    <tr style=\"text-align: right;\">\n",
       "      <th></th>\n",
       "      <th>Nombres</th>\n",
       "      <th>Data_Types</th>\n",
       "      <th>Missing_values</th>\n",
       "      <th>Present Values</th>\n",
       "      <th>Unique_Values</th>\n",
       "      <th>Min</th>\n",
       "      <th>Max</th>\n",
       "    </tr>\n",
       "  </thead>\n",
       "  <tbody>\n",
       "    <tr>\n",
       "      <th>age</th>\n",
       "      <td>age</td>\n",
       "      <td>int64</td>\n",
       "      <td>0</td>\n",
       "      <td>14</td>\n",
       "      <td>11</td>\n",
       "      <td>10</td>\n",
       "      <td>69</td>\n",
       "    </tr>\n",
       "    <tr>\n",
       "      <th>birth_date</th>\n",
       "      <td>birth_date</td>\n",
       "      <td>object</td>\n",
       "      <td>0</td>\n",
       "      <td>14</td>\n",
       "      <td>6</td>\n",
       "      <td>01-26-1956</td>\n",
       "      <td>19xx?10-23</td>\n",
       "    </tr>\n",
       "    <tr>\n",
       "      <th>marital</th>\n",
       "      <td>marital</td>\n",
       "      <td>object</td>\n",
       "      <td>1</td>\n",
       "      <td>13</td>\n",
       "      <td>8</td>\n",
       "      <td>NaN</td>\n",
       "      <td>NaN</td>\n",
       "    </tr>\n",
       "    <tr>\n",
       "      <th>people</th>\n",
       "      <td>people</td>\n",
       "      <td>object</td>\n",
       "      <td>0</td>\n",
       "      <td>14</td>\n",
       "      <td>14</td>\n",
       "      <td>ANA PAULA RANGEL OCHOA&amp;</td>\n",
       "      <td>jocelyn medel</td>\n",
       "    </tr>\n",
       "    <tr>\n",
       "      <th>ssn</th>\n",
       "      <td>ssn</td>\n",
       "      <td>object</td>\n",
       "      <td>1</td>\n",
       "      <td>13</td>\n",
       "      <td>8</td>\n",
       "      <td>NaN</td>\n",
       "      <td>NaN</td>\n",
       "    </tr>\n",
       "  </tbody>\n",
       "</table>\n",
       "</div>"
      ],
      "text/plain": [
       "               Nombres Data_Types  Missing_values  Present Values  \\\n",
       "age                age      int64               0              14   \n",
       "birth_date  birth_date     object               0              14   \n",
       "marital        marital     object               1              13   \n",
       "people          people     object               0              14   \n",
       "ssn                ssn     object               1              13   \n",
       "\n",
       "           Unique_Values                      Min            Max  \n",
       "age                   11                       10             69  \n",
       "birth_date             6               01-26-1956     19xx?10-23  \n",
       "marital                8                      NaN            NaN  \n",
       "people                14  ANA PAULA RANGEL OCHOA&  jocelyn medel  \n",
       "ssn                    8                      NaN            NaN  "
      ]
     },
     "execution_count": 5,
     "metadata": {},
     "output_type": "execute_result"
    }
   ],
   "source": [
    "reporte_dirty_df"
   ]
  },
  {
   "cell_type": "code",
   "execution_count": 6,
   "metadata": {},
   "outputs": [
    {
     "data": {
      "text/html": [
       "<div>\n",
       "<style scoped>\n",
       "    .dataframe tbody tr th:only-of-type {\n",
       "        vertical-align: middle;\n",
       "    }\n",
       "\n",
       "    .dataframe tbody tr th {\n",
       "        vertical-align: top;\n",
       "    }\n",
       "\n",
       "    .dataframe thead th {\n",
       "        text-align: right;\n",
       "    }\n",
       "</style>\n",
       "<table border=\"1\" class=\"dataframe\">\n",
       "  <thead>\n",
       "    <tr style=\"text-align: right;\">\n",
       "      <th></th>\n",
       "      <th>age</th>\n",
       "      <th>birth_date</th>\n",
       "      <th>marital</th>\n",
       "      <th>people</th>\n",
       "      <th>ssn</th>\n",
       "    </tr>\n",
       "  </thead>\n",
       "  <tbody>\n",
       "    <tr>\n",
       "      <th>0</th>\n",
       "      <td>24</td>\n",
       "      <td>02/12/1954</td>\n",
       "      <td>soltero</td>\n",
       "      <td>Alfonso A,guilar</td>\n",
       "      <td>6439</td>\n",
       "    </tr>\n",
       "    <tr>\n",
       "      <th>1</th>\n",
       "      <td>35</td>\n",
       "      <td>05/07/1958</td>\n",
       "      <td>casado</td>\n",
       "      <td>edu6ardo Castillo</td>\n",
       "      <td>689 24 9939</td>\n",
       "    </tr>\n",
       "    <tr>\n",
       "      <th>2</th>\n",
       "      <td>46</td>\n",
       "      <td>01-26-1956</td>\n",
       "      <td>Soltero</td>\n",
       "      <td>jocelyn medel</td>\n",
       "      <td>306-05-2792</td>\n",
       "    </tr>\n",
       "    <tr>\n",
       "      <th>3</th>\n",
       "      <td>57</td>\n",
       "      <td>19xx-10-23</td>\n",
       "      <td>divorciado</td>\n",
       "      <td>VICTOR ramos _ _ _</td>\n",
       "      <td>99922a45832</td>\n",
       "    </tr>\n",
       "    <tr>\n",
       "      <th>4</th>\n",
       "      <td>10</td>\n",
       "      <td>02/12/0054</td>\n",
       "      <td>SOLTERO</td>\n",
       "      <td>CARLOS EDUARDO; OCHOA ARAMBULA</td>\n",
       "      <td>6439</td>\n",
       "    </tr>\n",
       "  </tbody>\n",
       "</table>\n",
       "</div>"
      ],
      "text/plain": [
       "   age  birth_date     marital                          people          ssn\n",
       "0   24  02/12/1954     soltero                Alfonso A,guilar         6439\n",
       "1   35  05/07/1958      casado               edu6ardo Castillo  689 24 9939\n",
       "2   46  01-26-1956     Soltero                   jocelyn medel  306-05-2792\n",
       "3   57  19xx-10-23  divorciado              VICTOR ramos _ _ _  99922a45832\n",
       "4   10  02/12/0054     SOLTERO  CARLOS EDUARDO; OCHOA ARAMBULA         6439"
      ]
     },
     "execution_count": 6,
     "metadata": {},
     "output_type": "execute_result"
    }
   ],
   "source": [
    "dirty_df.head()"
   ]
  },
  {
   "cell_type": "markdown",
   "metadata": {},
   "source": [
    "## Limpieza del dataset\n",
    "\n",
    "- Eliminar Símbolos raros\n",
    "- Remover digitos\n",
    "- Remover espacios en blanco\n",
    "- reemplazar texto\n",
    "- convertir textos mínusculas/mayusculas\n",
    "- Dejar solamente digitos"
   ]
  },
  {
   "cell_type": "code",
   "execution_count": 7,
   "metadata": {},
   "outputs": [
    {
     "data": {
      "text/plain": [
       "0                     Alfonso A,guilar\n",
       "1                    edu6ardo Castillo\n",
       "2                        jocelyn medel\n",
       "3                   VICTOR ramos _ _ _\n",
       "4       CARLOS EDUARDO; OCHOA ARAMBULA\n",
       "5           JOSE MANUEL OCHOA CARDENAS\n",
       "6            JUAN MARIO; OCHOA NAVARRO\n",
       "7                LUIS ONTANEDA MIJARES\n",
       "8          EDUARDO OMAR ORTEGA RAMIREZ\n",
       "9     JOSE ALEJANDRO& PRECIADO GANDARA\n",
       "10    Jose Aantonio Quintero Rodriguez\n",
       "11             JOSE ALFONSO RAMIREZ D.\n",
       "12             ANA PAULA RANGEL OCHOA&\n",
       "13                  Arturo RUIZ CHAVEZ\n",
       "Name: people, dtype: object"
      ]
     },
     "execution_count": 7,
     "metadata": {},
     "output_type": "execute_result"
    }
   ],
   "source": [
    "dirty_df['people']"
   ]
  },
  {
   "cell_type": "code",
   "execution_count": 8,
   "metadata": {},
   "outputs": [
    {
     "data": {
      "text/plain": [
       "'!\"#$%&\\'()*+,-./:;<=>?@[\\\\]^_`{|}~'"
      ]
     },
     "execution_count": 8,
     "metadata": {},
     "output_type": "execute_result"
    }
   ],
   "source": [
    "string.punctuation"
   ]
  },
  {
   "cell_type": "code",
   "execution_count": 9,
   "metadata": {},
   "outputs": [
    {
     "data": {
      "text/plain": [
       "'0123456789'"
      ]
     },
     "execution_count": 9,
     "metadata": {},
     "output_type": "execute_result"
    }
   ],
   "source": [
    "string.digits"
   ]
  },
  {
   "cell_type": "code",
   "execution_count": 10,
   "metadata": {},
   "outputs": [],
   "source": [
    "# Remover signos de puntuación\n",
    "\n",
    "def remove_punctuation(x):\n",
    "    try:\n",
    "        x = ''.join(ch for ch in x if ch not in string.punctuation)\n",
    "    except:\n",
    "        pass\n",
    "    return x\n",
    "    "
   ]
  },
  {
   "cell_type": "code",
   "execution_count": 11,
   "metadata": {},
   "outputs": [],
   "source": [
    "# Remover digitos\n",
    "def remove_digits(x):\n",
    "    try:\n",
    "        x = ''.join(ch for ch in x if ch not in string.digits)\n",
    "    except:\n",
    "        pass\n",
    "    return x"
   ]
  },
  {
   "cell_type": "code",
   "execution_count": 12,
   "metadata": {},
   "outputs": [],
   "source": [
    "# Remover los espacios en blanco\n",
    "def remove_whitespace(x):\n",
    "    try:\n",
    "        x=''.join(x.split())\n",
    "    except:\n",
    "        pass\n",
    "    return x"
   ]
  },
  {
   "cell_type": "code",
   "execution_count": 13,
   "metadata": {},
   "outputs": [],
   "source": [
    "# Reemplazar texto\n",
    "def replace_text(x, to_replace, replacement):\n",
    "    try:\n",
    "        x = x.replace(to_replace, replacement)\n",
    "    except:\n",
    "        pass\n",
    "    return x\n"
   ]
  },
  {
   "cell_type": "code",
   "execution_count": 14,
   "metadata": {},
   "outputs": [],
   "source": [
    "# Convertir a mayusculas\n",
    "def uppercase_text(x):\n",
    "    try:\n",
    "        x=x.upper()\n",
    "    except:\n",
    "        pass\n",
    "    return x\n"
   ]
  },
  {
   "cell_type": "code",
   "execution_count": 15,
   "metadata": {},
   "outputs": [],
   "source": [
    "def lowercase_text(x):\n",
    "    try:\n",
    "        x=x.lower()\n",
    "    except:\n",
    "        pass\n",
    "    return x\n",
    "\n",
    "            "
   ]
  },
  {
   "cell_type": "code",
   "execution_count": 16,
   "metadata": {},
   "outputs": [
    {
     "data": {
      "text/plain": [
       "' VICTOR RAMOS'"
      ]
     },
     "execution_count": 16,
     "metadata": {},
     "output_type": "execute_result"
    }
   ],
   "source": [
    "x=' VICTOR ramos'\n",
    "uppercase_text(x)"
   ]
  },
  {
   "cell_type": "code",
   "execution_count": 17,
   "metadata": {},
   "outputs": [
    {
     "data": {
      "text/plain": [
       "' victor ramos'"
      ]
     },
     "execution_count": 17,
     "metadata": {},
     "output_type": "execute_result"
    }
   ],
   "source": [
    "x= ' VICTOR RAMOS'\n",
    "lowercase_text(x)"
   ]
  },
  {
   "cell_type": "code",
   "execution_count": 18,
   "metadata": {},
   "outputs": [
    {
     "data": {
      "text/plain": [
       "' VICTOR ramos   '"
      ]
     },
     "execution_count": 18,
     "metadata": {},
     "output_type": "execute_result"
    }
   ],
   "source": [
    "x=' VICTOR ramos _ _ _'\n",
    "remove_punctuation(x)"
   ]
  },
  {
   "cell_type": "code",
   "execution_count": 19,
   "metadata": {},
   "outputs": [
    {
     "data": {
      "text/plain": [
       "'   eduardo Castillo'"
      ]
     },
     "execution_count": 19,
     "metadata": {},
     "output_type": "execute_result"
    }
   ],
   "source": [
    "x=' 1 0 edu6ardo Cast3ill2o'\n",
    "remove_digits(x)"
   ]
  },
  {
   "cell_type": "code",
   "execution_count": 20,
   "metadata": {},
   "outputs": [
    {
     "data": {
      "text/plain": [
       "'eduardoCastillo'"
      ]
     },
     "execution_count": 20,
     "metadata": {},
     "output_type": "execute_result"
    }
   ],
   "source": [
    "x='   eduardo Castillo'\n",
    "remove_whitespace(x)"
   ]
  },
  {
   "cell_type": "code",
   "execution_count": 21,
   "metadata": {},
   "outputs": [
    {
     "data": {
      "text/plain": [
       "'eduardo Castillo   '"
      ]
     },
     "execution_count": 21,
     "metadata": {},
     "output_type": "execute_result"
    }
   ],
   "source": [
    "x='   eduardo Castillo   '\n",
    "x.lstrip()"
   ]
  },
  {
   "cell_type": "code",
   "execution_count": 22,
   "metadata": {},
   "outputs": [
    {
     "data": {
      "text/plain": [
       "'   eduardo Castillo'"
      ]
     },
     "execution_count": 22,
     "metadata": {},
     "output_type": "execute_result"
    }
   ],
   "source": [
    "x.rstrip()"
   ]
  },
  {
   "cell_type": "code",
   "execution_count": 23,
   "metadata": {},
   "outputs": [
    {
     "data": {
      "text/plain": [
       "'   eduardo Lopez'"
      ]
     },
     "execution_count": 23,
     "metadata": {},
     "output_type": "execute_result"
    }
   ],
   "source": [
    "x= '   eduardo Castillo'\n",
    "replace_text(x, 'Castillo', 'Lopez')"
   ]
  },
  {
   "cell_type": "code",
   "execution_count": 24,
   "metadata": {},
   "outputs": [
    {
     "data": {
      "text/plain": [
       "0                     Alfonso A,guilar\n",
       "1                    edu6ardo Castillo\n",
       "2                        jocelyn medel\n",
       "3                   VICTOR ramos _ _ _\n",
       "4       CARLOS EDUARDO; OCHOA ARAMBULA\n",
       "5           JOSE MANUEL OCHOA CARDENAS\n",
       "6            JUAN MARIO; OCHOA NAVARRO\n",
       "7                LUIS ONTANEDA MIJARES\n",
       "8          EDUARDO OMAR ORTEGA RAMIREZ\n",
       "9     JOSE ALEJANDRO& PRECIADO GANDARA\n",
       "10    Jose Aantonio Quintero Rodriguez\n",
       "11             JOSE ALFONSO RAMIREZ D.\n",
       "12             ANA PAULA RANGEL OCHOA&\n",
       "13                  Arturo RUIZ CHAVEZ\n",
       "Name: people, dtype: object"
      ]
     },
     "execution_count": 24,
     "metadata": {},
     "output_type": "execute_result"
    }
   ],
   "source": [
    "dirty_df['people']"
   ]
  },
  {
   "cell_type": "code",
   "execution_count": 25,
   "metadata": {},
   "outputs": [
    {
     "data": {
      "text/plain": [
       "0                    AlfonsoAguilar\n",
       "1                  edu6ardoCastillo\n",
       "2                      jocelynmedel\n",
       "3                       VICTORramos\n",
       "4        CARLOSEDUARDOOCHOAARAMBULA\n",
       "5           JOSEMANUELOCHOACARDENAS\n",
       "6             JUANMARIOOCHOANAVARRO\n",
       "7               LUISONTANEDAMIJARES\n",
       "8          EDUARDOOMARORTEGARAMIREZ\n",
       "9      JOSEALEJANDROPRECIADOGANDARA\n",
       "10    JoseAantonioQuinteroRodriguez\n",
       "11              JOSEALFONSORAMIREZD\n",
       "12              ANAPAULARANGELOCHOA\n",
       "13                 ArturoRUIZCHAVEZ\n",
       "Name: people, dtype: object"
      ]
     },
     "execution_count": 25,
     "metadata": {},
     "output_type": "execute_result"
    }
   ],
   "source": [
    "dirty_df['people'].apply(remove_punctuation).apply(remove_whitespace)"
   ]
  },
  {
   "cell_type": "markdown",
   "metadata": {},
   "source": [
    "## Limpiar la columna 'marital' cuando exista un valor nan, entonces hay que cambiar ese valor por la etiqueta 'missing', para esta columna todas los registros estén en mayusculas"
   ]
  },
  {
   "cell_type": "code",
   "execution_count": 26,
   "metadata": {},
   "outputs": [
    {
     "data": {
      "text/plain": [
       "0        soltero\n",
       "1         casado\n",
       "2        Soltero\n",
       "3     divorciado\n",
       "4        SOLTERO\n",
       "5         CASado\n",
       "6        Soltero\n",
       "7     DIVORCIADO\n",
       "8        soltero\n",
       "9            NaN\n",
       "10       Soltero\n",
       "11    divorciado\n",
       "12       missing\n",
       "13        casado\n",
       "Name: marital, dtype: object"
      ]
     },
     "execution_count": 26,
     "metadata": {},
     "output_type": "execute_result"
    }
   ],
   "source": [
    "dirty_df['marital']"
   ]
  },
  {
   "cell_type": "code",
   "execution_count": 27,
   "metadata": {},
   "outputs": [],
   "source": [
    "idx = dirty_df['marital'].isnull()"
   ]
  },
  {
   "cell_type": "code",
   "execution_count": 28,
   "metadata": {},
   "outputs": [
    {
     "data": {
      "text/plain": [
       "0     False\n",
       "1     False\n",
       "2     False\n",
       "3     False\n",
       "4     False\n",
       "5     False\n",
       "6     False\n",
       "7     False\n",
       "8     False\n",
       "9      True\n",
       "10    False\n",
       "11    False\n",
       "12    False\n",
       "13    False\n",
       "Name: marital, dtype: bool"
      ]
     },
     "execution_count": 28,
     "metadata": {},
     "output_type": "execute_result"
    }
   ],
   "source": [
    "idx"
   ]
  },
  {
   "cell_type": "code",
   "execution_count": 29,
   "metadata": {},
   "outputs": [
    {
     "name": "stderr",
     "output_type": "stream",
     "text": [
      "<ipython-input-29-10a45586a6c8>:1: SettingWithCopyWarning: \n",
      "A value is trying to be set on a copy of a slice from a DataFrame\n",
      "\n",
      "See the caveats in the documentation: https://pandas.pydata.org/pandas-docs/stable/user_guide/indexing.html#returning-a-view-versus-a-copy\n",
      "  dirty_df.marital[idx] = 'Missing'\n"
     ]
    }
   ],
   "source": [
    "dirty_df.marital[idx] = 'Missing'"
   ]
  },
  {
   "cell_type": "code",
   "execution_count": 30,
   "metadata": {},
   "outputs": [
    {
     "data": {
      "text/plain": [
       "0        soltero\n",
       "1         casado\n",
       "2        Soltero\n",
       "3     divorciado\n",
       "4        SOLTERO\n",
       "5         CASado\n",
       "6        Soltero\n",
       "7     DIVORCIADO\n",
       "8        soltero\n",
       "9        Missing\n",
       "10       Soltero\n",
       "11    divorciado\n",
       "12       missing\n",
       "13        casado\n",
       "Name: marital, dtype: object"
      ]
     },
     "execution_count": 30,
     "metadata": {},
     "output_type": "execute_result"
    }
   ],
   "source": [
    "dirty_df.marital"
   ]
  },
  {
   "cell_type": "code",
   "execution_count": 31,
   "metadata": {},
   "outputs": [],
   "source": [
    "dirty_df.marital = dirty_df.marital.apply(replace_text, args=('missing','Missing'))"
   ]
  },
  {
   "cell_type": "code",
   "execution_count": 32,
   "metadata": {},
   "outputs": [
    {
     "data": {
      "text/plain": [
       "0        soltero\n",
       "1         casado\n",
       "2        Soltero\n",
       "3     divorciado\n",
       "4        SOLTERO\n",
       "5         CASado\n",
       "6        Soltero\n",
       "7     DIVORCIADO\n",
       "8        soltero\n",
       "9        Missing\n",
       "10       Soltero\n",
       "11    divorciado\n",
       "12       Missing\n",
       "13        casado\n",
       "Name: marital, dtype: object"
      ]
     },
     "execution_count": 32,
     "metadata": {},
     "output_type": "execute_result"
    }
   ],
   "source": [
    "dirty_df.marital"
   ]
  },
  {
   "cell_type": "code",
   "execution_count": 33,
   "metadata": {},
   "outputs": [
    {
     "data": {
      "text/plain": [
       "0        SOLTERO\n",
       "1         CASADO\n",
       "2        SOLTERO\n",
       "3     DIVORCIADO\n",
       "4        SOLTERO\n",
       "5         CASADO\n",
       "6        SOLTERO\n",
       "7     DIVORCIADO\n",
       "8        SOLTERO\n",
       "9        MISSING\n",
       "10       SOLTERO\n",
       "11    DIVORCIADO\n",
       "12       MISSING\n",
       "13        CASADO\n",
       "Name: marital, dtype: object"
      ]
     },
     "execution_count": 33,
     "metadata": {},
     "output_type": "execute_result"
    }
   ],
   "source": [
    "dirty_df.marital.apply(uppercase_text)"
   ]
  },
  {
   "cell_type": "code",
   "execution_count": 34,
   "metadata": {},
   "outputs": [
    {
     "data": {
      "text/plain": [
       "array(['soltero', 'casado', 'Soltero', 'divorciado', 'SOLTERO', 'CASado',\n",
       "       'DIVORCIADO', 'Missing'], dtype=object)"
      ]
     },
     "execution_count": 34,
     "metadata": {},
     "output_type": "execute_result"
    }
   ],
   "source": [
    "dirty_df['marital'].unique()"
   ]
  },
  {
   "cell_type": "code",
   "execution_count": 35,
   "metadata": {},
   "outputs": [],
   "source": [
    "list = ['Soltero', 'SOLTERO', 'CASado','DIVORCIADO']\n",
    "\n",
    "for l in list:\n",
    "    dirty_df.marital.apply(replace_text, args=(l,'Missing'))\n"
   ]
  },
  {
   "cell_type": "code",
   "execution_count": 36,
   "metadata": {},
   "outputs": [],
   "source": [
    "\n",
    "dirty_df.marital = dirty_df.marital.apply(replace_text, args=('missing','Missing'))\n"
   ]
  },
  {
   "cell_type": "code",
   "execution_count": 37,
   "metadata": {},
   "outputs": [
    {
     "data": {
      "text/html": [
       "<div>\n",
       "<style scoped>\n",
       "    .dataframe tbody tr th:only-of-type {\n",
       "        vertical-align: middle;\n",
       "    }\n",
       "\n",
       "    .dataframe tbody tr th {\n",
       "        vertical-align: top;\n",
       "    }\n",
       "\n",
       "    .dataframe thead th {\n",
       "        text-align: right;\n",
       "    }\n",
       "</style>\n",
       "<table border=\"1\" class=\"dataframe\">\n",
       "  <thead>\n",
       "    <tr style=\"text-align: right;\">\n",
       "      <th></th>\n",
       "      <th>age</th>\n",
       "      <th>birth_date</th>\n",
       "      <th>marital</th>\n",
       "      <th>people</th>\n",
       "      <th>ssn</th>\n",
       "    </tr>\n",
       "  </thead>\n",
       "  <tbody>\n",
       "    <tr>\n",
       "      <th>0</th>\n",
       "      <td>24</td>\n",
       "      <td>02/12/1954</td>\n",
       "      <td>soltero</td>\n",
       "      <td>Alfonso A,guilar</td>\n",
       "      <td>6439</td>\n",
       "    </tr>\n",
       "    <tr>\n",
       "      <th>1</th>\n",
       "      <td>35</td>\n",
       "      <td>05/07/1958</td>\n",
       "      <td>casado</td>\n",
       "      <td>edu6ardo Castillo</td>\n",
       "      <td>689 24 9939</td>\n",
       "    </tr>\n",
       "    <tr>\n",
       "      <th>2</th>\n",
       "      <td>46</td>\n",
       "      <td>01-26-1956</td>\n",
       "      <td>Soltero</td>\n",
       "      <td>jocelyn medel</td>\n",
       "      <td>306-05-2792</td>\n",
       "    </tr>\n",
       "    <tr>\n",
       "      <th>3</th>\n",
       "      <td>57</td>\n",
       "      <td>19xx-10-23</td>\n",
       "      <td>divorciado</td>\n",
       "      <td>VICTOR ramos _ _ _</td>\n",
       "      <td>99922a45832</td>\n",
       "    </tr>\n",
       "    <tr>\n",
       "      <th>4</th>\n",
       "      <td>10</td>\n",
       "      <td>02/12/0054</td>\n",
       "      <td>SOLTERO</td>\n",
       "      <td>CARLOS EDUARDO; OCHOA ARAMBULA</td>\n",
       "      <td>6439</td>\n",
       "    </tr>\n",
       "    <tr>\n",
       "      <th>5</th>\n",
       "      <td>25</td>\n",
       "      <td>05/07/1958</td>\n",
       "      <td>CASado</td>\n",
       "      <td>JOSE MANUEL OCHOA CARDENAS</td>\n",
       "      <td>689 24 9939</td>\n",
       "    </tr>\n",
       "    <tr>\n",
       "      <th>6</th>\n",
       "      <td>63</td>\n",
       "      <td>01-26-1956</td>\n",
       "      <td>Soltero</td>\n",
       "      <td>JUAN MARIO; OCHOA NAVARRO</td>\n",
       "      <td>306-05-2792</td>\n",
       "    </tr>\n",
       "    <tr>\n",
       "      <th>7</th>\n",
       "      <td>59</td>\n",
       "      <td>19xx?10-23</td>\n",
       "      <td>DIVORCIADO</td>\n",
       "      <td>LUIS ONTANEDA MIJARES</td>\n",
       "      <td>99922a45832</td>\n",
       "    </tr>\n",
       "    <tr>\n",
       "      <th>8</th>\n",
       "      <td>69</td>\n",
       "      <td>02/12/1954</td>\n",
       "      <td>soltero</td>\n",
       "      <td>EDUARDO OMAR ORTEGA RAMIREZ</td>\n",
       "      <td>NaN</td>\n",
       "    </tr>\n",
       "    <tr>\n",
       "      <th>9</th>\n",
       "      <td>59</td>\n",
       "      <td>05/07/1958</td>\n",
       "      <td>Missing</td>\n",
       "      <td>JOSE ALEJANDRO&amp; PRECIADO GANDARA</td>\n",
       "      <td>6439</td>\n",
       "    </tr>\n",
       "    <tr>\n",
       "      <th>10</th>\n",
       "      <td>20</td>\n",
       "      <td>01-26-1956</td>\n",
       "      <td>Soltero</td>\n",
       "      <td>Jose Aantonio Quintero Rodriguez</td>\n",
       "      <td>689 24 9938</td>\n",
       "    </tr>\n",
       "    <tr>\n",
       "      <th>11</th>\n",
       "      <td>25</td>\n",
       "      <td>19xx-10-23</td>\n",
       "      <td>divorciado</td>\n",
       "      <td>JOSE ALFONSO RAMIREZ D.</td>\n",
       "      <td>306-06-2792</td>\n",
       "    </tr>\n",
       "    <tr>\n",
       "      <th>12</th>\n",
       "      <td>30</td>\n",
       "      <td>02/12/0054</td>\n",
       "      <td>Missing</td>\n",
       "      <td>ANA PAULA RANGEL OCHOA&amp;</td>\n",
       "      <td>99922a45845</td>\n",
       "    </tr>\n",
       "    <tr>\n",
       "      <th>13</th>\n",
       "      <td>35</td>\n",
       "      <td>05/07/1958</td>\n",
       "      <td>casado</td>\n",
       "      <td>Arturo RUIZ CHAVEZ</td>\n",
       "      <td>missing</td>\n",
       "    </tr>\n",
       "  </tbody>\n",
       "</table>\n",
       "</div>"
      ],
      "text/plain": [
       "    age  birth_date     marital                            people          ssn\n",
       "0    24  02/12/1954     soltero                  Alfonso A,guilar         6439\n",
       "1    35  05/07/1958      casado                 edu6ardo Castillo  689 24 9939\n",
       "2    46  01-26-1956     Soltero                     jocelyn medel  306-05-2792\n",
       "3    57  19xx-10-23  divorciado                VICTOR ramos _ _ _  99922a45832\n",
       "4    10  02/12/0054     SOLTERO    CARLOS EDUARDO; OCHOA ARAMBULA         6439\n",
       "5    25  05/07/1958      CASado        JOSE MANUEL OCHOA CARDENAS  689 24 9939\n",
       "6    63  01-26-1956     Soltero         JUAN MARIO; OCHOA NAVARRO  306-05-2792\n",
       "7    59  19xx?10-23  DIVORCIADO             LUIS ONTANEDA MIJARES  99922a45832\n",
       "8    69  02/12/1954     soltero       EDUARDO OMAR ORTEGA RAMIREZ          NaN\n",
       "9    59  05/07/1958     Missing  JOSE ALEJANDRO& PRECIADO GANDARA         6439\n",
       "10   20  01-26-1956     Soltero  Jose Aantonio Quintero Rodriguez  689 24 9938\n",
       "11   25  19xx-10-23  divorciado           JOSE ALFONSO RAMIREZ D.  306-06-2792\n",
       "12   30  02/12/0054     Missing           ANA PAULA RANGEL OCHOA&  99922a45845\n",
       "13   35  05/07/1958      casado                Arturo RUIZ CHAVEZ      missing"
      ]
     },
     "execution_count": 37,
     "metadata": {},
     "output_type": "execute_result"
    }
   ],
   "source": [
    "dirty_df"
   ]
  },
  {
   "cell_type": "code",
   "execution_count": 38,
   "metadata": {},
   "outputs": [],
   "source": [
    "x='2547'"
   ]
  },
  {
   "cell_type": "code",
   "execution_count": 39,
   "metadata": {},
   "outputs": [
    {
     "data": {
      "text/plain": [
       "5"
      ]
     },
     "execution_count": 39,
     "metadata": {},
     "output_type": "execute_result"
    }
   ],
   "source": [
    "9-len(x)"
   ]
  },
  {
   "cell_type": "code",
   "execution_count": 40,
   "metadata": {},
   "outputs": [
    {
     "data": {
      "text/plain": [
       "'254747'"
      ]
     },
     "execution_count": 40,
     "metadata": {},
     "output_type": "execute_result"
    }
   ],
   "source": [
    "x+'47'"
   ]
  },
  {
   "cell_type": "code",
   "execution_count": 41,
   "metadata": {},
   "outputs": [
    {
     "data": {
      "text/plain": [
       "'472547'"
      ]
     },
     "execution_count": 41,
     "metadata": {},
     "output_type": "execute_result"
    }
   ],
   "source": [
    "'47'+x"
   ]
  },
  {
   "cell_type": "markdown",
   "metadata": {},
   "source": [
    "## Actividad 2: Limpieza de datos\n",
    "\n",
    "**1. En clase se mostró un ejemplo de la limpieza de una base datos ejemplo “dirty_data.csv”, de la que se logró hacer la estandarización de los nombres de las personas, y las fechas de nacimiento. En la columna “ssn” se requiere los siguientes cambios:**\n",
    "    \n",
    "    - Cada registro solo debe de contener números.\n",
    "    \n",
    "    - Cada registro debe de contener 9 dígitos para ser un registro válido, de otra forma hay que rellenar con ceros por la parte izquierda para tener los 9 digitos.\n",
    "    \n",
    "    - No se quieren espacios, ni guiones o algún otro símbolo especial en cada registro.\n",
    "    \n",
    "    - Si tenemos etiquetas o NaNs, serán sustituidos por 9 dígitos de puros ceros.\n",
    "\n",
    "**2. Utiliza las mismas funciones para limpiar la base de datos llamada “dirty_Info_Alumnos_v1.csv”. El ejercicio consiste en normalizar toda la tabla teniendo encuentra las siguientes consideraciones:**\n",
    "\n",
    "    - Dejar los nombres correctos en mayúsculas.\n",
    "    \n",
    "    - Eliminar todos los caracteres especiales de la columna teléfono.\n",
    "    \n",
    "    - Cuando no se tenga la longitud de 10 dígitos en el teléfono, se considerará el dato como “missing”.\n",
    "    \n",
    "    - Dejar solo números en la columna semestre.\n",
    "    \n",
    "    - Si el número de expediente no tiene 6 dígitos considerarlo como “missing”."
   ]
  },
  {
   "cell_type": "code",
   "execution_count": 42,
   "metadata": {},
   "outputs": [],
   "source": [
    "def fill_ceros_ssn(x):\n",
    "    try:\n",
    "        x=str(x)\n",
    "        while (len(x)<9):\n",
    "            x='0'+x\n",
    "    except:\n",
    "        pass\n",
    "    return x"
   ]
  },
  {
   "cell_type": "code",
   "execution_count": 43,
   "metadata": {},
   "outputs": [],
   "source": [
    "def remove_character(x):\n",
    "    try:\n",
    "        x = ''.join(ch for ch in x if ch in string.digits)\n",
    "    except:\n",
    "        pass\n",
    "    return x"
   ]
  },
  {
   "cell_type": "code",
   "execution_count": 44,
   "metadata": {},
   "outputs": [],
   "source": [
    "dirty_df.ssn = dirty_df.ssn.apply(remove_character)"
   ]
  },
  {
   "cell_type": "code",
   "execution_count": 45,
   "metadata": {},
   "outputs": [
    {
     "data": {
      "text/plain": [
       "0           6439\n",
       "1      689249939\n",
       "2      306052792\n",
       "3     9992245832\n",
       "4           6439\n",
       "5      689249939\n",
       "6      306052792\n",
       "7     9992245832\n",
       "8            NaN\n",
       "9           6439\n",
       "10     689249938\n",
       "11     306062792\n",
       "12    9992245845\n",
       "13              \n",
       "Name: ssn, dtype: object"
      ]
     },
     "execution_count": 45,
     "metadata": {},
     "output_type": "execute_result"
    }
   ],
   "source": [
    "dirty_df.ssn"
   ]
  },
  {
   "cell_type": "code",
   "execution_count": 46,
   "metadata": {},
   "outputs": [],
   "source": [
    "dirty_df.ssn=dirty_df.ssn.fillna('000000000')"
   ]
  },
  {
   "cell_type": "code",
   "execution_count": 47,
   "metadata": {},
   "outputs": [
    {
     "data": {
      "text/plain": [
       "0           6439\n",
       "1      689249939\n",
       "2      306052792\n",
       "3     9992245832\n",
       "4           6439\n",
       "5      689249939\n",
       "6      306052792\n",
       "7     9992245832\n",
       "8      000000000\n",
       "9           6439\n",
       "10     689249938\n",
       "11     306062792\n",
       "12    9992245845\n",
       "13              \n",
       "Name: ssn, dtype: object"
      ]
     },
     "execution_count": 47,
     "metadata": {},
     "output_type": "execute_result"
    }
   ],
   "source": [
    "dirty_df.ssn"
   ]
  },
  {
   "cell_type": "code",
   "execution_count": 48,
   "metadata": {},
   "outputs": [],
   "source": [
    "dirty_df.ssn=dirty_df.ssn.apply(fill_ceros_ssn)"
   ]
  },
  {
   "cell_type": "code",
   "execution_count": 49,
   "metadata": {},
   "outputs": [
    {
     "data": {
      "text/html": [
       "<div>\n",
       "<style scoped>\n",
       "    .dataframe tbody tr th:only-of-type {\n",
       "        vertical-align: middle;\n",
       "    }\n",
       "\n",
       "    .dataframe tbody tr th {\n",
       "        vertical-align: top;\n",
       "    }\n",
       "\n",
       "    .dataframe thead th {\n",
       "        text-align: right;\n",
       "    }\n",
       "</style>\n",
       "<table border=\"1\" class=\"dataframe\">\n",
       "  <thead>\n",
       "    <tr style=\"text-align: right;\">\n",
       "      <th></th>\n",
       "      <th>age</th>\n",
       "      <th>birth_date</th>\n",
       "      <th>marital</th>\n",
       "      <th>people</th>\n",
       "      <th>ssn</th>\n",
       "    </tr>\n",
       "  </thead>\n",
       "  <tbody>\n",
       "    <tr>\n",
       "      <th>0</th>\n",
       "      <td>24</td>\n",
       "      <td>02/12/1954</td>\n",
       "      <td>soltero</td>\n",
       "      <td>Alfonso A,guilar</td>\n",
       "      <td>000006439</td>\n",
       "    </tr>\n",
       "    <tr>\n",
       "      <th>1</th>\n",
       "      <td>35</td>\n",
       "      <td>05/07/1958</td>\n",
       "      <td>casado</td>\n",
       "      <td>edu6ardo Castillo</td>\n",
       "      <td>689249939</td>\n",
       "    </tr>\n",
       "    <tr>\n",
       "      <th>2</th>\n",
       "      <td>46</td>\n",
       "      <td>01-26-1956</td>\n",
       "      <td>Soltero</td>\n",
       "      <td>jocelyn medel</td>\n",
       "      <td>306052792</td>\n",
       "    </tr>\n",
       "    <tr>\n",
       "      <th>3</th>\n",
       "      <td>57</td>\n",
       "      <td>19xx-10-23</td>\n",
       "      <td>divorciado</td>\n",
       "      <td>VICTOR ramos _ _ _</td>\n",
       "      <td>9992245832</td>\n",
       "    </tr>\n",
       "    <tr>\n",
       "      <th>4</th>\n",
       "      <td>10</td>\n",
       "      <td>02/12/0054</td>\n",
       "      <td>SOLTERO</td>\n",
       "      <td>CARLOS EDUARDO; OCHOA ARAMBULA</td>\n",
       "      <td>000006439</td>\n",
       "    </tr>\n",
       "    <tr>\n",
       "      <th>5</th>\n",
       "      <td>25</td>\n",
       "      <td>05/07/1958</td>\n",
       "      <td>CASado</td>\n",
       "      <td>JOSE MANUEL OCHOA CARDENAS</td>\n",
       "      <td>689249939</td>\n",
       "    </tr>\n",
       "    <tr>\n",
       "      <th>6</th>\n",
       "      <td>63</td>\n",
       "      <td>01-26-1956</td>\n",
       "      <td>Soltero</td>\n",
       "      <td>JUAN MARIO; OCHOA NAVARRO</td>\n",
       "      <td>306052792</td>\n",
       "    </tr>\n",
       "    <tr>\n",
       "      <th>7</th>\n",
       "      <td>59</td>\n",
       "      <td>19xx?10-23</td>\n",
       "      <td>DIVORCIADO</td>\n",
       "      <td>LUIS ONTANEDA MIJARES</td>\n",
       "      <td>9992245832</td>\n",
       "    </tr>\n",
       "    <tr>\n",
       "      <th>8</th>\n",
       "      <td>69</td>\n",
       "      <td>02/12/1954</td>\n",
       "      <td>soltero</td>\n",
       "      <td>EDUARDO OMAR ORTEGA RAMIREZ</td>\n",
       "      <td>000000000</td>\n",
       "    </tr>\n",
       "    <tr>\n",
       "      <th>9</th>\n",
       "      <td>59</td>\n",
       "      <td>05/07/1958</td>\n",
       "      <td>Missing</td>\n",
       "      <td>JOSE ALEJANDRO&amp; PRECIADO GANDARA</td>\n",
       "      <td>000006439</td>\n",
       "    </tr>\n",
       "    <tr>\n",
       "      <th>10</th>\n",
       "      <td>20</td>\n",
       "      <td>01-26-1956</td>\n",
       "      <td>Soltero</td>\n",
       "      <td>Jose Aantonio Quintero Rodriguez</td>\n",
       "      <td>689249938</td>\n",
       "    </tr>\n",
       "    <tr>\n",
       "      <th>11</th>\n",
       "      <td>25</td>\n",
       "      <td>19xx-10-23</td>\n",
       "      <td>divorciado</td>\n",
       "      <td>JOSE ALFONSO RAMIREZ D.</td>\n",
       "      <td>306062792</td>\n",
       "    </tr>\n",
       "    <tr>\n",
       "      <th>12</th>\n",
       "      <td>30</td>\n",
       "      <td>02/12/0054</td>\n",
       "      <td>Missing</td>\n",
       "      <td>ANA PAULA RANGEL OCHOA&amp;</td>\n",
       "      <td>9992245845</td>\n",
       "    </tr>\n",
       "    <tr>\n",
       "      <th>13</th>\n",
       "      <td>35</td>\n",
       "      <td>05/07/1958</td>\n",
       "      <td>casado</td>\n",
       "      <td>Arturo RUIZ CHAVEZ</td>\n",
       "      <td>000000000</td>\n",
       "    </tr>\n",
       "  </tbody>\n",
       "</table>\n",
       "</div>"
      ],
      "text/plain": [
       "    age  birth_date     marital                            people         ssn\n",
       "0    24  02/12/1954     soltero                  Alfonso A,guilar   000006439\n",
       "1    35  05/07/1958      casado                 edu6ardo Castillo   689249939\n",
       "2    46  01-26-1956     Soltero                     jocelyn medel   306052792\n",
       "3    57  19xx-10-23  divorciado                VICTOR ramos _ _ _  9992245832\n",
       "4    10  02/12/0054     SOLTERO    CARLOS EDUARDO; OCHOA ARAMBULA   000006439\n",
       "5    25  05/07/1958      CASado        JOSE MANUEL OCHOA CARDENAS   689249939\n",
       "6    63  01-26-1956     Soltero         JUAN MARIO; OCHOA NAVARRO   306052792\n",
       "7    59  19xx?10-23  DIVORCIADO             LUIS ONTANEDA MIJARES  9992245832\n",
       "8    69  02/12/1954     soltero       EDUARDO OMAR ORTEGA RAMIREZ   000000000\n",
       "9    59  05/07/1958     Missing  JOSE ALEJANDRO& PRECIADO GANDARA   000006439\n",
       "10   20  01-26-1956     Soltero  Jose Aantonio Quintero Rodriguez   689249938\n",
       "11   25  19xx-10-23  divorciado           JOSE ALFONSO RAMIREZ D.   306062792\n",
       "12   30  02/12/0054     Missing           ANA PAULA RANGEL OCHOA&  9992245845\n",
       "13   35  05/07/1958      casado                Arturo RUIZ CHAVEZ   000000000"
      ]
     },
     "execution_count": 49,
     "metadata": {},
     "output_type": "execute_result"
    }
   ],
   "source": [
    "dirty_df"
   ]
  },
  {
   "cell_type": "code",
   "execution_count": 50,
   "metadata": {},
   "outputs": [],
   "source": [
    "info_alumnos = pd.read_csv('../Data/dirty_Info_Alumnos_v1.csv', encoding='latin-1')"
   ]
  },
  {
   "cell_type": "code",
   "execution_count": 53,
   "metadata": {},
   "outputs": [
    {
     "data": {
      "text/html": [
       "<div>\n",
       "<style scoped>\n",
       "    .dataframe tbody tr th:only-of-type {\n",
       "        vertical-align: middle;\n",
       "    }\n",
       "\n",
       "    .dataframe tbody tr th {\n",
       "        vertical-align: top;\n",
       "    }\n",
       "\n",
       "    .dataframe thead th {\n",
       "        text-align: right;\n",
       "    }\n",
       "</style>\n",
       "<table border=\"1\" class=\"dataframe\">\n",
       "  <thead>\n",
       "    <tr style=\"text-align: right;\">\n",
       "      <th></th>\n",
       "      <th>Combre Completo</th>\n",
       "      <th>Edad</th>\n",
       "      <th>Telefono</th>\n",
       "      <th>Semestre</th>\n",
       "      <th>Num Expediente</th>\n",
       "    </tr>\n",
       "  </thead>\n",
       "  <tbody>\n",
       "    <tr>\n",
       "      <th>0</th>\n",
       "      <td>ALVAREZ DEL&amp;CASTILLO CASTA¥EDA  JUAN MANUEL</td>\n",
       "      <td>20</td>\n",
       "      <td>(106)2-562-979</td>\n",
       "      <td>13 er</td>\n",
       "      <td>639408</td>\n",
       "    </tr>\n",
       "    <tr>\n",
       "      <th>1</th>\n",
       "      <td>ANAYA AVALOS_VICTOR MAURICIO</td>\n",
       "      <td>20</td>\n",
       "      <td>7354-926-370</td>\n",
       "      <td>7</td>\n",
       "      <td>930023</td>\n",
       "    </tr>\n",
       "    <tr>\n",
       "      <th>2</th>\n",
       "      <td>ANSOLEAGA ALVAREZ _  MARIA FERNANDA</td>\n",
       "      <td>19</td>\n",
       "      <td>7479-367-588</td>\n",
       "      <td>12ø</td>\n",
       "      <td>871375</td>\n",
       "    </tr>\n",
       "    <tr>\n",
       "      <th>3</th>\n",
       "      <td>BARBA GALVAN  SANTIAGO</td>\n",
       "      <td>19</td>\n",
       "      <td>6589-950-295</td>\n",
       "      <td>1ø</td>\n",
       "      <td>439629</td>\n",
       "    </tr>\n",
       "    <tr>\n",
       "      <th>4</th>\n",
       "      <td>BARBOZA ESPIN0ZA  CARLOS ALFONS0</td>\n",
       "      <td>23</td>\n",
       "      <td>(223) 72 77 358</td>\n",
       "      <td>9o</td>\n",
       "      <td>272305</td>\n",
       "    </tr>\n",
       "    <tr>\n",
       "      <th>5</th>\n",
       "      <td>BUENO ARAGON  PEDRQ LUIS</td>\n",
       "      <td>23</td>\n",
       "      <td>203 878 880</td>\n",
       "      <td>6</td>\n",
       "      <td>513535</td>\n",
       "    </tr>\n",
       "    <tr>\n",
       "      <th>6</th>\n",
       "      <td>CANTU RU1Z ESC0TO  MARIA JOSE</td>\n",
       "      <td>18</td>\n",
       "      <td>61-388-524</td>\n",
       "      <td>3er</td>\n",
       "      <td>577715</td>\n",
       "    </tr>\n",
       "    <tr>\n",
       "      <th>7</th>\n",
       "      <td>ESTAVILLO_URREA_JUAN_PABLO</td>\n",
       "      <td>19</td>\n",
       "      <td>319-039-676</td>\n",
       "      <td>2do</td>\n",
       "      <td>425199</td>\n",
       "    </tr>\n",
       "    <tr>\n",
       "      <th>8</th>\n",
       "      <td>GARCIA_VERDUZCO_MARIO_ABEL</td>\n",
       "      <td>19</td>\n",
       "      <td>8370-557-679</td>\n",
       "      <td>12</td>\n",
       "      <td>286804</td>\n",
       "    </tr>\n",
       "    <tr>\n",
       "      <th>9</th>\n",
       "      <td>GONZALEZ&amp;MANRIQUE&amp;PAULINA&amp;MILENKA</td>\n",
       "      <td>18</td>\n",
       "      <td>3497507667</td>\n",
       "      <td>8</td>\n",
       "      <td>686234</td>\n",
       "    </tr>\n",
       "    <tr>\n",
       "      <th>10</th>\n",
       "      <td>JIMENEZ OROZCO&amp;_ANDREA</td>\n",
       "      <td>20</td>\n",
       "      <td>7065060736</td>\n",
       "      <td>11</td>\n",
       "      <td>551318</td>\n",
       "    </tr>\n",
       "    <tr>\n",
       "      <th>11</th>\n",
       "      <td>MU6NGUI7A QUINTERO  AXEL FRANCISCO</td>\n",
       "      <td>19</td>\n",
       "      <td>7142573985</td>\n",
       "      <td>9</td>\n",
       "      <td>524791</td>\n",
       "    </tr>\n",
       "    <tr>\n",
       "      <th>12</th>\n",
       "      <td>NU¥O-GUEVARA- ALBERTO-ENRIQUE</td>\n",
       "      <td>22</td>\n",
       "      <td>6386313360</td>\n",
       "      <td>2</td>\n",
       "      <td>405879</td>\n",
       "    </tr>\n",
       "    <tr>\n",
       "      <th>13</th>\n",
       "      <td>ORTEGA LARES  SOPHIA&amp;&amp;</td>\n",
       "      <td>18</td>\n",
       "      <td>9474160231</td>\n",
       "      <td>7</td>\n",
       "      <td>990031</td>\n",
       "    </tr>\n",
       "    <tr>\n",
       "      <th>14</th>\n",
       "      <td>ORTIZ TIRADO GONZALEZ  ESTEBAN%%</td>\n",
       "      <td>19</td>\n",
       "      <td>8802712180</td>\n",
       "      <td>6</td>\n",
       "      <td>443880</td>\n",
       "    </tr>\n",
       "    <tr>\n",
       "      <th>15</th>\n",
       "      <td>OSUNA RIOS  RODRIGO</td>\n",
       "      <td>22</td>\n",
       "      <td>8781791416</td>\n",
       "      <td>8</td>\n",
       "      <td>431962</td>\n",
       "    </tr>\n",
       "    <tr>\n",
       "      <th>16</th>\n",
       "      <td>PARIS MERIN  DOUGLAS FABIAN     :_</td>\n",
       "      <td>21</td>\n",
       "      <td>709008812</td>\n",
       "      <td>4</td>\n",
       "      <td>770236</td>\n",
       "    </tr>\n",
       "    <tr>\n",
       "      <th>17</th>\n",
       "      <td>REYES VALDEZ  IRENE :)</td>\n",
       "      <td>21</td>\n",
       "      <td>1020817685</td>\n",
       "      <td>6</td>\n",
       "      <td>330802</td>\n",
       "    </tr>\n",
       "    <tr>\n",
       "      <th>18</th>\n",
       "      <td>RODRIGUEZ RAMIREZ  FRANCISCO RICARDO :)</td>\n",
       "      <td>22</td>\n",
       "      <td>7709903210</td>\n",
       "      <td>6</td>\n",
       "      <td>141546</td>\n",
       "    </tr>\n",
       "    <tr>\n",
       "      <th>19</th>\n",
       "      <td>RUIZ PADILLA  LUIS ANGEL x0x0</td>\n",
       "      <td>21</td>\n",
       "      <td>103169926</td>\n",
       "      <td>11vo</td>\n",
       "      <td>941912</td>\n",
       "    </tr>\n",
       "    <tr>\n",
       "      <th>20</th>\n",
       "      <td>SALINAS GANDARA  NOE ALEJANDRO :0</td>\n",
       "      <td>20</td>\n",
       "      <td>(151) 8977060</td>\n",
       "      <td>7</td>\n",
       "      <td>458383</td>\n",
       "    </tr>\n",
       "    <tr>\n",
       "      <th>21</th>\n",
       "      <td>VAZQUEZ GUZMAN  JAIME EDUARDO</td>\n",
       "      <td>21</td>\n",
       "      <td>5560130162</td>\n",
       "      <td>3</td>\n",
       "      <td>942849</td>\n",
       "    </tr>\n",
       "    <tr>\n",
       "      <th>22</th>\n",
       "      <td>VILLEGAS:0 RIVAS ANA PAOLA</td>\n",
       "      <td>23</td>\n",
       "      <td>2022187062</td>\n",
       "      <td>10</td>\n",
       "      <td>767189</td>\n",
       "    </tr>\n",
       "    <tr>\n",
       "      <th>23</th>\n",
       "      <td>ZU¥IGA ORTIZ  JORGE LUIS</td>\n",
       "      <td>21</td>\n",
       "      <td>8019616118</td>\n",
       "      <td>12</td>\n",
       "      <td>419382</td>\n",
       "    </tr>\n",
       "    <tr>\n",
       "      <th>24</th>\n",
       "      <td>ACEVES RAMIREZ&amp;&amp;&amp;  NICOLE</td>\n",
       "      <td>23</td>\n",
       "      <td>846848997</td>\n",
       "      <td>1</td>\n",
       "      <td>763483</td>\n",
       "    </tr>\n",
       "    <tr>\n",
       "      <th>25</th>\n",
       "      <td>BELLO&amp;AVILA&amp;ELVIRA</td>\n",
       "      <td>23</td>\n",
       "      <td>6096314180</td>\n",
       "      <td>8vo</td>\n",
       "      <td>905833</td>\n",
       "    </tr>\n",
       "    <tr>\n",
       "      <th>26</th>\n",
       "      <td>CASTILLO? FUHR?  ARACELI?SOLEDAD</td>\n",
       "      <td>21</td>\n",
       "      <td>4912740197</td>\n",
       "      <td>10</td>\n",
       "      <td>338719</td>\n",
       "    </tr>\n",
       "    <tr>\n",
       "      <th>27</th>\n",
       "      <td>CONTRERAS GONZALEZ          ANDREA LIZETTE</td>\n",
       "      <td>22</td>\n",
       "      <td>7880944230</td>\n",
       "      <td>3</td>\n",
       "      <td>595136</td>\n",
       "    </tr>\n",
       "    <tr>\n",
       "      <th>28</th>\n",
       "      <td>CONTRERAS         TORRES  YAQUIE GUADALUPE</td>\n",
       "      <td>19</td>\n",
       "      <td>7729001070</td>\n",
       "      <td>11</td>\n",
       "      <td>382142</td>\n",
       "    </tr>\n",
       "    <tr>\n",
       "      <th>29</th>\n",
       "      <td>CORTES . . . . SOTO  ALEJANDRA</td>\n",
       "      <td>20</td>\n",
       "      <td>6075198058</td>\n",
       "      <td>11</td>\n",
       "      <td>580550</td>\n",
       "    </tr>\n",
       "    <tr>\n",
       "      <th>30</th>\n",
       "      <td>CRUZ DELGADILLO&amp;&amp;&amp;ANA CRISTINA</td>\n",
       "      <td>21</td>\n",
       "      <td>914-5-396-860</td>\n",
       "      <td>13</td>\n",
       "      <td>210028</td>\n",
       "    </tr>\n",
       "    <tr>\n",
       "      <th>31</th>\n",
       "      <td>FLORES OROZCO  OSCAR ALFONSO</td>\n",
       "      <td>20</td>\n",
       "      <td>544234694</td>\n",
       "      <td>1</td>\n",
       "      <td>529444</td>\n",
       "    </tr>\n",
       "    <tr>\n",
       "      <th>32</th>\n",
       "      <td>GAMEZ ORTIZ  LIDIA NATASHA</td>\n",
       "      <td>19</td>\n",
       "      <td>7023063345</td>\n",
       "      <td>5</td>\n",
       "      <td>835054</td>\n",
       "    </tr>\n",
       "    <tr>\n",
       "      <th>33</th>\n",
       "      <td>GARCIA GOMEZ  ISAMAR :0</td>\n",
       "      <td>20</td>\n",
       "      <td>326558753</td>\n",
       "      <td>10</td>\n",
       "      <td>4116</td>\n",
       "    </tr>\n",
       "    <tr>\n",
       "      <th>34</th>\n",
       "      <td>GUTIERREZ RAMIREZ  EVELYN :P</td>\n",
       "      <td>21</td>\n",
       "      <td>2752970583</td>\n",
       "      <td>8</td>\n",
       "      <td>113201</td>\n",
       "    </tr>\n",
       "    <tr>\n",
       "      <th>35</th>\n",
       "      <td>LOMELI SALADO  HANNIA CECILIA</td>\n",
       "      <td>20</td>\n",
       "      <td>1980639143</td>\n",
       "      <td>7</td>\n",
       "      <td>347325</td>\n",
       "    </tr>\n",
       "    <tr>\n",
       "      <th>36</th>\n",
       "      <td>MARTINEZ GOMEZ :P TAMARA VALERIA</td>\n",
       "      <td>21</td>\n",
       "      <td>457235246</td>\n",
       "      <td>1ø</td>\n",
       "      <td>562662</td>\n",
       "    </tr>\n",
       "    <tr>\n",
       "      <th>37</th>\n",
       "      <td>MAYORQUIN HIGUERA &amp; ANEHI KARELY</td>\n",
       "      <td>23</td>\n",
       "      <td>4796349262</td>\n",
       "      <td>5</td>\n",
       "      <td>899065</td>\n",
       "    </tr>\n",
       "    <tr>\n",
       "      <th>38</th>\n",
       "      <td>NU¥O TISCARE¥O % CARLOS ELIAS</td>\n",
       "      <td>22</td>\n",
       "      <td>8563589265</td>\n",
       "      <td>9</td>\n",
       "      <td>427314</td>\n",
       "    </tr>\n",
       "    <tr>\n",
       "      <th>39</th>\n",
       "      <td>PE¥A HINOJOSA ?­?­ HERMELA</td>\n",
       "      <td>20</td>\n",
       "      <td>8979376292</td>\n",
       "      <td>12</td>\n",
       "      <td>55819</td>\n",
       "    </tr>\n",
       "    <tr>\n",
       "      <th>40</th>\n",
       "      <td>PIEDRAS AYALA %  ANDRES</td>\n",
       "      <td>21</td>\n",
       "      <td>(552)2227210</td>\n",
       "      <td>9</td>\n",
       "      <td>810821</td>\n",
       "    </tr>\n",
       "    <tr>\n",
       "      <th>41</th>\n",
       "      <td>PINEDO TALANGO &amp; MARIA FERNANDA</td>\n",
       "      <td>20</td>\n",
       "      <td>4902285262</td>\n",
       "      <td>9</td>\n",
       "      <td>48441</td>\n",
       "    </tr>\n",
       "    <tr>\n",
       "      <th>42</th>\n",
       "      <td>PINTADO DELFIN %&amp;/ MANUEL</td>\n",
       "      <td>20</td>\n",
       "      <td>(+)9820997302</td>\n",
       "      <td>8</td>\n",
       "      <td>394042</td>\n",
       "    </tr>\n",
       "    <tr>\n",
       "      <th>43</th>\n",
       "      <td>%&amp;/78 RAMIREZ CAMBERO  JOB</td>\n",
       "      <td>19</td>\n",
       "      <td>(+)7238529731</td>\n",
       "      <td>2</td>\n",
       "      <td>219378</td>\n",
       "    </tr>\n",
       "    <tr>\n",
       "      <th>44</th>\n",
       "      <td>5678 RAMIREZ DE LA ROSA  LUIS MARIA</td>\n",
       "      <td>21</td>\n",
       "      <td>4112594583</td>\n",
       "      <td>10</td>\n",
       "      <td>301775</td>\n",
       "    </tr>\n",
       "    <tr>\n",
       "      <th>45</th>\n",
       "      <td>RAMIREZ 5678 HINOJOSA  DIANA LAURA</td>\n",
       "      <td>20</td>\n",
       "      <td>138-411- 66 - 32</td>\n",
       "      <td>10</td>\n",
       "      <td>444554</td>\n",
       "    </tr>\n",
       "    <tr>\n",
       "      <th>46</th>\n",
       "      <td>SALCEDO 567912 CELIS  PAULINA</td>\n",
       "      <td>22</td>\n",
       "      <td>3453712953</td>\n",
       "      <td>8</td>\n",
       "      <td>925671</td>\n",
       "    </tr>\n",
       "    <tr>\n",
       "      <th>47</th>\n",
       "      <td>VILLA DOMINGUEZ %%%%  OSCAR GERMAN</td>\n",
       "      <td>19</td>\n",
       "      <td>7 - 367 - 553- 692</td>\n",
       "      <td>2</td>\n",
       "      <td>569441</td>\n",
       "    </tr>\n",
       "  </tbody>\n",
       "</table>\n",
       "</div>"
      ],
      "text/plain": [
       "                                Combre Completo  Edad            Telefono  \\\n",
       "0   ALVAREZ DEL&CASTILLO CASTA¥EDA  JUAN MANUEL    20      (106)2-562-979   \n",
       "1                  ANAYA AVALOS_VICTOR MAURICIO    20        7354-926-370   \n",
       "2           ANSOLEAGA ALVAREZ _  MARIA FERNANDA    19        7479-367-588   \n",
       "3                        BARBA GALVAN  SANTIAGO    19        6589-950-295   \n",
       "4              BARBOZA ESPIN0ZA  CARLOS ALFONS0    23     (223) 72 77 358   \n",
       "5                      BUENO ARAGON  PEDRQ LUIS    23         203 878 880   \n",
       "6                 CANTU RU1Z ESC0TO  MARIA JOSE    18          61-388-524   \n",
       "7                    ESTAVILLO_URREA_JUAN_PABLO    19         319-039-676   \n",
       "8                    GARCIA_VERDUZCO_MARIO_ABEL    19        8370-557-679   \n",
       "9             GONZALEZ&MANRIQUE&PAULINA&MILENKA    18          3497507667   \n",
       "10                       JIMENEZ OROZCO&_ANDREA    20          7065060736   \n",
       "11           MU6NGUI7A QUINTERO  AXEL FRANCISCO    19          7142573985   \n",
       "12                NU¥O-GUEVARA- ALBERTO-ENRIQUE    22          6386313360   \n",
       "13                       ORTEGA LARES  SOPHIA&&    18          9474160231   \n",
       "14             ORTIZ TIRADO GONZALEZ  ESTEBAN%%    19          8802712180   \n",
       "15                          OSUNA RIOS  RODRIGO    22          8781791416   \n",
       "16           PARIS MERIN  DOUGLAS FABIAN     :_    21           709008812   \n",
       "17                       REYES VALDEZ  IRENE :)    21          1020817685   \n",
       "18      RODRIGUEZ RAMIREZ  FRANCISCO RICARDO :)    22          7709903210   \n",
       "19                RUIZ PADILLA  LUIS ANGEL x0x0    21           103169926   \n",
       "20            SALINAS GANDARA  NOE ALEJANDRO :0    20       (151) 8977060   \n",
       "21                VAZQUEZ GUZMAN  JAIME EDUARDO    21          5560130162   \n",
       "22                   VILLEGAS:0 RIVAS ANA PAOLA    23          2022187062   \n",
       "23                     ZU¥IGA ORTIZ  JORGE LUIS    21          8019616118   \n",
       "24                    ACEVES RAMIREZ&&&  NICOLE    23           846848997   \n",
       "25                           BELLO&AVILA&ELVIRA    23          6096314180   \n",
       "26             CASTILLO? FUHR?  ARACELI?SOLEDAD    21          4912740197   \n",
       "27   CONTRERAS GONZALEZ          ANDREA LIZETTE    22          7880944230   \n",
       "28   CONTRERAS         TORRES  YAQUIE GUADALUPE    19          7729001070   \n",
       "29               CORTES . . . . SOTO  ALEJANDRA    20          6075198058   \n",
       "30               CRUZ DELGADILLO&&&ANA CRISTINA    21       914-5-396-860   \n",
       "31                 FLORES OROZCO  OSCAR ALFONSO    20           544234694   \n",
       "32                   GAMEZ ORTIZ  LIDIA NATASHA    19          7023063345   \n",
       "33                      GARCIA GOMEZ  ISAMAR :0    20           326558753   \n",
       "34                 GUTIERREZ RAMIREZ  EVELYN :P    21          2752970583   \n",
       "35                LOMELI SALADO  HANNIA CECILIA    20          1980639143   \n",
       "36            MARTINEZ GOMEZ :P TAMARA VALERIA     21           457235246   \n",
       "37             MAYORQUIN HIGUERA & ANEHI KARELY    23          4796349262   \n",
       "38                NU¥O TISCARE¥O % CARLOS ELIAS    22          8563589265   \n",
       "39                   PE¥A HINOJOSA ?­?­ HERMELA    20          8979376292   \n",
       "40                      PIEDRAS AYALA %  ANDRES    21        (552)2227210   \n",
       "41              PINEDO TALANGO & MARIA FERNANDA    20          4902285262   \n",
       "42                    PINTADO DELFIN %&/ MANUEL    20       (+)9820997302   \n",
       "43                   %&/78 RAMIREZ CAMBERO  JOB    19       (+)7238529731   \n",
       "44          5678 RAMIREZ DE LA ROSA  LUIS MARIA    21          4112594583   \n",
       "45           RAMIREZ 5678 HINOJOSA  DIANA LAURA    20    138-411- 66 - 32   \n",
       "46                SALCEDO 567912 CELIS  PAULINA    22          3453712953   \n",
       "47           VILLA DOMINGUEZ %%%%  OSCAR GERMAN    19  7 - 367 - 553- 692   \n",
       "\n",
       "   Semestre  Num Expediente  \n",
       "0     13 er          639408  \n",
       "1         7          930023  \n",
       "2       12ø          871375  \n",
       "3        1ø          439629  \n",
       "4        9o          272305  \n",
       "5         6          513535  \n",
       "6       3er          577715  \n",
       "7       2do          425199  \n",
       "8        12          286804  \n",
       "9         8          686234  \n",
       "10       11          551318  \n",
       "11        9          524791  \n",
       "12        2          405879  \n",
       "13        7          990031  \n",
       "14        6          443880  \n",
       "15        8          431962  \n",
       "16        4          770236  \n",
       "17        6          330802  \n",
       "18        6          141546  \n",
       "19     11vo          941912  \n",
       "20        7          458383  \n",
       "21        3          942849  \n",
       "22       10          767189  \n",
       "23       12          419382  \n",
       "24        1          763483  \n",
       "25      8vo          905833  \n",
       "26       10          338719  \n",
       "27        3          595136  \n",
       "28       11          382142  \n",
       "29       11          580550  \n",
       "30       13          210028  \n",
       "31        1          529444  \n",
       "32        5          835054  \n",
       "33       10            4116  \n",
       "34        8          113201  \n",
       "35        7          347325  \n",
       "36       1ø          562662  \n",
       "37        5          899065  \n",
       "38        9          427314  \n",
       "39       12           55819  \n",
       "40        9          810821  \n",
       "41        9           48441  \n",
       "42        8          394042  \n",
       "43        2          219378  \n",
       "44       10          301775  \n",
       "45       10          444554  \n",
       "46        8          925671  \n",
       "47        2          569441  "
      ]
     },
     "execution_count": 53,
     "metadata": {},
     "output_type": "execute_result"
    }
   ],
   "source": [
    "info_alumnos"
   ]
  },
  {
   "cell_type": "code",
   "execution_count": null,
   "metadata": {},
   "outputs": [],
   "source": []
  }
 ],
 "metadata": {
  "kernelspec": {
   "display_name": "Python 3",
   "language": "python",
   "name": "python3"
  },
  "language_info": {
   "codemirror_mode": {
    "name": "ipython",
    "version": 3
   },
   "file_extension": ".py",
   "mimetype": "text/x-python",
   "name": "python",
   "nbconvert_exporter": "python",
   "pygments_lexer": "ipython3",
   "version": "3.8.5"
  }
 },
 "nbformat": 4,
 "nbformat_minor": 4
}
