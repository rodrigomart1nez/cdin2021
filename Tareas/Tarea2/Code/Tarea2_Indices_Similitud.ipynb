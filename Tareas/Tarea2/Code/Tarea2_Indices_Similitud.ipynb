{
 "cells": [
  {
   "cell_type": "markdown",
   "metadata": {},
   "source": [
    "<img src=\"iteso_horizontal.png\">\n",
    "\n",
    "<h1><center>DEPARTAMENTO DE MATEMÁTICAS Y FÍSICA</center></h1>\n",
    "\n",
    "<h1><center>Tarea 2 : Indices de Similitud</center></h1>\n"
   ]
  },
  {
   "cell_type": "markdown",
   "metadata": {},
   "source": [
    "<h1> Nombre: </h1>\n",
    "<hr>   "
   ]
  },
  {
   "cell_type": "markdown",
   "metadata": {},
   "source": [
    "Habiendo hecho un estudio preliminar de la calidad de los datos. Normalmente conviene definir el tipo de dato de cada variable. La clasificación de los datos, normalmente se hace en las siguientes categorías: Variables Binarias o de doble estado, variables cualitativas o multiestado, variables cuantitativas y variables genéticas.\n",
    "En clase se realizó un resumen de las medidas de similitud más usadas en el análisis de datos. Enseguida se muestran dos tablas de medidas o índices de similitud, que han sido propuestas para cada tipo de dato. \n",
    "\n",
    "<div class=\"alert alert-danger\" style=\"margin: 10px\"><strong>NOTA IMPORTANTE!</strong> En cada figura, tabla, o resultado que se incluya, se debe de incluir el código que se utilizó para obtenerlo.  <br> Todas las figuras (si las hubiera) deben de estar comentadas o descritas.</div>"
   ]
  },
  {
   "cell_type": "markdown",
   "metadata": {},
   "source": [
    "#### 1. Del archivo con información de la contaminación de zona metropolitana (“contaminacion_zm.xlsx”), escoja las mediciones de al menos 4 estaciones que miden la calidad del aire (ej: Atemajac, Aguilas, Centro, Oblatos)."
   ]
  },
  {
   "cell_type": "code",
   "execution_count": 1,
   "metadata": {},
   "outputs": [],
   "source": [
    "import numpy as np\n",
    "import pandas as pd"
   ]
  },
  {
   "cell_type": "code",
   "execution_count": 2,
   "metadata": {},
   "outputs": [],
   "source": [
    "df_atemajac = pd.read_excel('../Data/contaminacion_zm.xlsx', sheet_name='Atemajac')"
   ]
  },
  {
   "cell_type": "code",
   "execution_count": 3,
   "metadata": {},
   "outputs": [
    {
     "data": {
      "text/html": [
       "<div>\n",
       "<style scoped>\n",
       "    .dataframe tbody tr th:only-of-type {\n",
       "        vertical-align: middle;\n",
       "    }\n",
       "\n",
       "    .dataframe tbody tr th {\n",
       "        vertical-align: top;\n",
       "    }\n",
       "\n",
       "    .dataframe thead th {\n",
       "        text-align: right;\n",
       "    }\n",
       "</style>\n",
       "<table border=\"1\" class=\"dataframe\">\n",
       "  <thead>\n",
       "    <tr style=\"text-align: right;\">\n",
       "      <th></th>\n",
       "      <th>Fecha</th>\n",
       "      <th>Hora</th>\n",
       "      <th>CO</th>\n",
       "      <th>NO2</th>\n",
       "      <th>O3</th>\n",
       "      <th>PM10</th>\n",
       "      <th>SO2</th>\n",
       "      <th>Unnamed: 7</th>\n",
       "    </tr>\n",
       "  </thead>\n",
       "  <tbody>\n",
       "    <tr>\n",
       "      <th>0</th>\n",
       "      <td>2015-01-01 00:00:00</td>\n",
       "      <td>2015-01-01 00:00:00</td>\n",
       "      <td>0.603</td>\n",
       "      <td>0.01005</td>\n",
       "      <td>0.01695</td>\n",
       "      <td>43.95</td>\n",
       "      <td>0.00165</td>\n",
       "      <td>NaN</td>\n",
       "    </tr>\n",
       "    <tr>\n",
       "      <th>1</th>\n",
       "      <td>2015-01-01 01:00:00</td>\n",
       "      <td>2015-01-01 01:00:00</td>\n",
       "      <td>0.909</td>\n",
       "      <td>0.01510</td>\n",
       "      <td>0.01347</td>\n",
       "      <td>50.04</td>\n",
       "      <td>0.00190</td>\n",
       "      <td>NaN</td>\n",
       "    </tr>\n",
       "    <tr>\n",
       "      <th>2</th>\n",
       "      <td>2015-01-01 02:00:00</td>\n",
       "      <td>2015-01-01 02:00:00</td>\n",
       "      <td>1.835</td>\n",
       "      <td>0.02492</td>\n",
       "      <td>0.00273</td>\n",
       "      <td>46.23</td>\n",
       "      <td>0.00252</td>\n",
       "      <td>NaN</td>\n",
       "    </tr>\n",
       "    <tr>\n",
       "      <th>3</th>\n",
       "      <td>2015-01-01 03:00:00</td>\n",
       "      <td>2015-01-01 03:00:00</td>\n",
       "      <td>2.208</td>\n",
       "      <td>0.02338</td>\n",
       "      <td>0.00307</td>\n",
       "      <td>57.83</td>\n",
       "      <td>0.00298</td>\n",
       "      <td>NaN</td>\n",
       "    </tr>\n",
       "    <tr>\n",
       "      <th>4</th>\n",
       "      <td>2015-01-01 04:00:00</td>\n",
       "      <td>2015-01-01 04:00:00</td>\n",
       "      <td>1.473</td>\n",
       "      <td>0.01925</td>\n",
       "      <td>0.00223</td>\n",
       "      <td>56.66</td>\n",
       "      <td>0.00245</td>\n",
       "      <td>NaN</td>\n",
       "    </tr>\n",
       "  </tbody>\n",
       "</table>\n",
       "</div>"
      ],
      "text/plain": [
       "                Fecha                 Hora     CO      NO2       O3   PM10  \\\n",
       "0 2015-01-01 00:00:00  2015-01-01 00:00:00  0.603  0.01005  0.01695  43.95   \n",
       "1 2015-01-01 01:00:00  2015-01-01 01:00:00  0.909  0.01510  0.01347  50.04   \n",
       "2 2015-01-01 02:00:00  2015-01-01 02:00:00  1.835  0.02492  0.00273  46.23   \n",
       "3 2015-01-01 03:00:00  2015-01-01 03:00:00  2.208  0.02338  0.00307  57.83   \n",
       "4 2015-01-01 04:00:00  2015-01-01 04:00:00  1.473  0.01925  0.00223  56.66   \n",
       "\n",
       "       SO2 Unnamed: 7  \n",
       "0  0.00165        NaN  \n",
       "1  0.00190        NaN  \n",
       "2  0.00252        NaN  \n",
       "3  0.00298        NaN  \n",
       "4  0.00245        NaN  "
      ]
     },
     "execution_count": 3,
     "metadata": {},
     "output_type": "execute_result"
    }
   ],
   "source": [
    "df_atemajac.head()"
   ]
  },
  {
   "cell_type": "code",
   "execution_count": null,
   "metadata": {},
   "outputs": [],
   "source": []
  },
  {
   "cell_type": "markdown",
   "metadata": {},
   "source": [
    "#### 2. Cada estación mide la cantidad de las siguientes sustancias: “CO”, “NO2”, “O3”, “PM10”, “SO2”, donde la frecuencia de medición es cada hora durante todo el año 2015. Obtener un reporte de la calidad de los datos de al menos una tabla, para determinar la información básica de la base de datos."
   ]
  },
  {
   "cell_type": "code",
   "execution_count": null,
   "metadata": {},
   "outputs": [],
   "source": []
  },
  {
   "cell_type": "markdown",
   "metadata": {},
   "source": [
    "#### 3. Con la ayuda del cálculo de las distancias, determine cuales estaciones tienen un comportamiento similar durante todo el año. La comparación será entre contaminantes del mismo tipo, por cada estación, es decir, se requiere comparar el “CO” de todas las estaciones, después se obtiene una nueva distancia entre “NO2” de cada estación y así sucesivamente."
   ]
  },
  {
   "cell_type": "code",
   "execution_count": null,
   "metadata": {},
   "outputs": [],
   "source": []
  },
  {
   "cell_type": "markdown",
   "metadata": {},
   "source": [
    "#### 4. Realice una tabla con las medidas de similitud o distancia en cada una de las comparaciones."
   ]
  },
  {
   "cell_type": "code",
   "execution_count": null,
   "metadata": {},
   "outputs": [],
   "source": []
  },
  {
   "cell_type": "markdown",
   "metadata": {},
   "source": [
    "#### 5.- Incluya en este apartado el índice de similitud que se haya encontrado (vea el archivo pdf, donde encontará las medidas de similitud más usadas en el análisis de datos ), su fórmula y un pequeño ejemplo de cómo se aplica en una serie de datos de prueba."
   ]
  },
  {
   "cell_type": "code",
   "execution_count": null,
   "metadata": {},
   "outputs": [],
   "source": []
  }
 ],
 "metadata": {
  "anaconda-cloud": {},
  "kernelspec": {
   "display_name": "Python 3",
   "language": "python",
   "name": "python3"
  },
  "language_info": {
   "codemirror_mode": {
    "name": "ipython",
    "version": 3
   },
   "file_extension": ".py",
   "mimetype": "text/x-python",
   "name": "python",
   "nbconvert_exporter": "python",
   "pygments_lexer": "ipython3",
   "version": "3.8.5"
  }
 },
 "nbformat": 4,
 "nbformat_minor": 1
}
